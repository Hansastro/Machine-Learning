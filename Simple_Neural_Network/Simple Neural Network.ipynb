{
 "cells": [
  {
   "cell_type": "code",
   "execution_count": 230,
   "metadata": {
    "ExecuteTime": {
     "end_time": "2018-03-18T19:48:58.081858Z",
     "start_time": "2018-03-18T19:48:58.076165Z"
    }
   },
   "outputs": [],
   "source": [
    "import snn\n",
    "from snn import neuralNetwork\n",
    "import pandas as pd\n",
    "import numpy as np\n",
    "import matplotlib.pyplot as plt"
   ]
  },
  {
   "cell_type": "code",
   "execution_count": 231,
   "metadata": {
    "ExecuteTime": {
     "end_time": "2018-03-18T19:48:58.234868Z",
     "start_time": "2018-03-18T19:48:58.229786Z"
    }
   },
   "outputs": [
    {
     "data": {
      "text/plain": [
       "<module 'snn' from '/home/jean-phi/Projects/Machine-Learning/Simple_Neural_Network/snn.py'>"
      ]
     },
     "execution_count": 231,
     "metadata": {},
     "output_type": "execute_result"
    }
   ],
   "source": [
    "import importlib\n",
    "importlib.reload(snn)"
   ]
  },
  {
   "cell_type": "markdown",
   "metadata": {},
   "source": [
    "# Read the data from the file"
   ]
  },
  {
   "cell_type": "code",
   "execution_count": 232,
   "metadata": {
    "ExecuteTime": {
     "end_time": "2018-03-18T19:48:58.546873Z",
     "start_time": "2018-03-18T19:48:58.508039Z"
    }
   },
   "outputs": [],
   "source": [
    "df = pd.read_csv(\"./MNIST_dataset/mnist_train_100.csv\", sep=',', header=None)"
   ]
  },
  {
   "cell_type": "markdown",
   "metadata": {},
   "source": [
    "# Create the neural network"
   ]
  },
  {
   "cell_type": "code",
   "execution_count": 233,
   "metadata": {
    "ExecuteTime": {
     "end_time": "2018-03-18T19:48:58.823497Z",
     "start_time": "2018-03-18T19:48:58.817231Z"
    }
   },
   "outputs": [],
   "source": [
    "nn = neuralNetwork(784, 100, 10)"
   ]
  },
  {
   "cell_type": "markdown",
   "metadata": {},
   "source": [
    "# Prepare the data"
   ]
  },
  {
   "cell_type": "markdown",
   "metadata": {},
   "source": [
    "## Extract the target output"
   ]
  },
  {
   "cell_type": "code",
   "execution_count": 234,
   "metadata": {
    "ExecuteTime": {
     "end_time": "2018-03-18T19:48:59.299774Z",
     "start_time": "2018-03-18T19:48:59.294704Z"
    }
   },
   "outputs": [],
   "source": [
    "array_targetData = df.loc[:, 0].values"
   ]
  },
  {
   "cell_type": "markdown",
   "metadata": {},
   "source": [
    "## Normalize the input"
   ]
  },
  {
   "cell_type": "code",
   "execution_count": 235,
   "metadata": {
    "ExecuteTime": {
     "end_time": "2018-03-18T19:48:59.613041Z",
     "start_time": "2018-03-18T19:48:59.608902Z"
    }
   },
   "outputs": [],
   "source": [
    "array_inputs = df.loc[:, 1:].values / 255.0 * 0.99 + 0.01"
   ]
  },
  {
   "cell_type": "markdown",
   "metadata": {},
   "source": [
    "# Train the neural network"
   ]
  },
  {
   "cell_type": "code",
   "execution_count": 236,
   "metadata": {
    "ExecuteTime": {
     "end_time": "2018-03-18T19:48:59.926012Z",
     "start_time": "2018-03-18T19:48:59.909467Z"
    },
    "code_folding": []
   },
   "outputs": [
    {
     "name": "stdout",
     "output_type": "stream",
     "text": [
      "Target: 3\tPredicted result: 3\n"
     ]
    }
   ],
   "source": [
    "index=10\n",
    "formatedTarget = np.zeros(10) + 0.01\n",
    "formatedTarget[array_targetData[index]] = 0.99\n",
    "for _ in range(10):\n",
    "    nn.train(array_inputs[index], formatedTarget)\n",
    "print('Target: ' + str(array_targetData[index]) + '\\tPredicted result: ' + str(np.argmax(nn.predict(array_inputs[index]))))"
   ]
  },
  {
   "cell_type": "code",
   "execution_count": 237,
   "metadata": {
    "ExecuteTime": {
     "end_time": "2018-03-18T19:49:01.567332Z",
     "start_time": "2018-03-18T19:49:00.936541Z"
    },
    "code_folding": []
   },
   "outputs": [
    {
     "name": "stdout",
     "output_type": "stream",
     "text": [
      "Converge in 22 epochs\n"
     ]
    }
   ],
   "source": [
    "nbEpoch = 1000\n",
    "listError = []\n",
    "\n",
    "for epoch in range(nbEpoch):\n",
    "    error = 0\n",
    "    for i in range(len(array_targetData)):\n",
    "        formatedTarget = np.zeros(10) + 0.01\n",
    "        formatedTarget[array_targetData[i]] = 0.99\n",
    "    \n",
    "        nn.train(array_inputs[i], formatedTarget)\n",
    "        predictedResult = np.argmax(nn.predict(array_inputs[i]))\n",
    "        if (predictedResult != array_targetData[i]):\n",
    "            error += 1        \n",
    "    listError.append(error)\n",
    "    if error == 0:\n",
    "        print('Converge in ' + str(epoch) + ' epochs')\n",
    "        break\n",
    "        "
   ]
  },
  {
   "cell_type": "code",
   "execution_count": 238,
   "metadata": {
    "ExecuteTime": {
     "end_time": "2018-03-18T19:49:03.034126Z",
     "start_time": "2018-03-18T19:49:02.926931Z"
    }
   },
   "outputs": [
    {
     "data": {
      "image/png": "[encoded data removed]",
      "text/plain": [
       "<Figure size 432x288 with 1 Axes>"
      ]
     },
     "metadata": {},
     "output_type": "display_data"
    }
   ],
   "source": [
    "plt.plot(listError)\n",
    "plt.show()"
   ]
  },
  {
   "cell_type": "markdown",
   "metadata": {
    "ExecuteTime": {
     "end_time": "2018-03-18T19:48:28.268809Z",
     "start_time": "2018-03-18T19:48:28.264765Z"
    }
   },
   "source": []
  },
  {
   "cell_type": "code",
   "execution_count": null,
   "metadata": {},
   "outputs": [],
   "source": []
  }
 ],
 "metadata": {
  "kernelspec": {
   "display_name": "Python 3",
   "language": "python",
   "name": "python3"
  },
  "language_info": {
   "codemirror_mode": {
    "name": "ipython",
    "version": 3
   },
   "file_extension": ".py",
   "mimetype": "text/x-python",
   "name": "python",
   "nbconvert_exporter": "python",
   "pygments_lexer": "ipython3",
   "version": "3.5.2"
  },
  "toc": {
   "nav_menu": {},
   "number_sections": true,
   "sideBar": true,
   "skip_h1_title": false,
   "title_cell": "Table of Contents",
   "title_sidebar": "Contents",
   "toc_cell": false,
   "toc_position": {},
   "toc_section_display": true,
   "toc_window_display": false
  },
  "varInspector": {
   "cols": {
    "lenName": 16,
    "lenType": 16,
    "lenVar": 40
   },
   "kernels_config": {
    "python": {
     "delete_cmd_postfix": "",
     "delete_cmd_prefix": "del ",
     "library": "var_list.py",
     "varRefreshCmd": "print(var_dic_list())"
    },
    "r": {
     "delete_cmd_postfix": ") ",
     "delete_cmd_prefix": "rm(",
     "library": "var_list.r",
     "varRefreshCmd": "cat(var_dic_list()) "
    }
   },
   "types_to_exclude": [
    "module",
    "function",
    "builtin_function_or_method",
    "instance",
    "_Feature"
   ],
   "window_display": false
  }
 },
 "nbformat": 4,
 "nbformat_minor": 2
}
