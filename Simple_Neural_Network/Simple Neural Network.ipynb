{
 "cells": [
  {
   "cell_type": "code",
   "execution_count": 16,
   "metadata": {
    "ExecuteTime": {
     "end_time": "2018-03-18T20:11:49.440545Z",
     "start_time": "2018-03-18T20:11:49.437222Z"
    }
   },
   "outputs": [],
   "source": [
    "import snn\n",
    "from snn import neuralNetwork\n",
    "import pandas as pd\n",
    "import numpy as np\n",
    "import matplotlib.pyplot as plt"
   ]
  },
  {
   "cell_type": "code",
   "execution_count": 17,
   "metadata": {
    "ExecuteTime": {
     "end_time": "2018-03-18T20:11:49.927695Z",
     "start_time": "2018-03-18T20:11:49.924121Z"
    }
   },
   "outputs": [
    {
     "data": {
      "text/plain": [
       "<module 'snn' from '/home/jean-phi/Projects/Machine-Learning/Simple_Neural_Network/snn.py'>"
      ]
     },
     "execution_count": 17,
     "metadata": {},
     "output_type": "execute_result"
    }
   ],
   "source": [
    "import importlib\n",
    "importlib.reload(snn)"
   ]
  },
  {
   "cell_type": "markdown",
   "metadata": {},
   "source": [
    "# Read the data from the file"
   ]
  },
  {
   "cell_type": "code",
   "execution_count": 18,
   "metadata": {
    "ExecuteTime": {
     "end_time": "2018-03-18T20:11:54.942870Z",
     "start_time": "2018-03-18T20:11:50.376667Z"
    }
   },
   "outputs": [],
   "source": [
    "df = pd.read_csv(\"./MNIST_dataset/mnist_train.csv\", sep=',', header=None)"
   ]
  },
  {
   "cell_type": "markdown",
   "metadata": {},
   "source": [
    "# Create the neural network"
   ]
  },
  {
   "cell_type": "code",
   "execution_count": 19,
   "metadata": {
    "ExecuteTime": {
     "end_time": "2018-03-18T20:11:55.430790Z",
     "start_time": "2018-03-18T20:11:55.425041Z"
    }
   },
   "outputs": [],
   "source": [
    "nn = neuralNetwork(784, 100, 10)"
   ]
  },
  {
   "cell_type": "markdown",
   "metadata": {},
   "source": [
    "# Prepare the data"
   ]
  },
  {
   "cell_type": "markdown",
   "metadata": {},
   "source": [
    "## Extract the target output"
   ]
  },
  {
   "cell_type": "code",
   "execution_count": 20,
   "metadata": {
    "ExecuteTime": {
     "end_time": "2018-03-18T20:11:55.898121Z",
     "start_time": "2018-03-18T20:11:55.895494Z"
    }
   },
   "outputs": [],
   "source": [
    "array_targetData = df.loc[:, 0].values"
   ]
  },
  {
   "cell_type": "markdown",
   "metadata": {},
   "source": [
    "## Normalize the input"
   ]
  },
  {
   "cell_type": "code",
   "execution_count": 21,
   "metadata": {
    "ExecuteTime": {
     "end_time": "2018-03-18T20:11:56.662791Z",
     "start_time": "2018-03-18T20:11:56.413955Z"
    }
   },
   "outputs": [],
   "source": [
    "array_inputs = df.loc[:, 1:].values / 255.0 * 0.99 + 0.01"
   ]
  },
  {
   "cell_type": "markdown",
   "metadata": {},
   "source": [
    "# Train the neural network"
   ]
  },
  {
   "cell_type": "code",
   "execution_count": 22,
   "metadata": {
    "ExecuteTime": {
     "end_time": "2018-03-18T20:11:57.105730Z",
     "start_time": "2018-03-18T20:11:57.096953Z"
    },
    "code_folding": []
   },
   "outputs": [
    {
     "name": "stdout",
     "output_type": "stream",
     "text": [
      "Target: 3\tPredicted result: 3\n"
     ]
    }
   ],
   "source": [
    "index=10\n",
    "formatedTarget = np.zeros(10) + 0.01\n",
    "formatedTarget[array_targetData[index]] = 0.99\n",
    "for _ in range(10):\n",
    "    nn.train(array_inputs[index], formatedTarget)\n",
    "print('Target: ' + str(array_targetData[index]) + '\\tPredicted result: ' + str(np.argmax(nn.predict(array_inputs[index]))))"
   ]
  },
  {
   "cell_type": "code",
   "execution_count": 23,
   "metadata": {
    "ExecuteTime": {
     "end_time": "2018-03-18T20:34:28.422693Z",
     "start_time": "2018-03-18T20:11:57.598004Z"
    },
    "code_folding": []
   },
   "outputs": [
    {
     "name": "stdout",
     "output_type": "stream",
     "text": [
      "Epoch: 0\tErrors: 5112\tPerformance: 91.48%\n",
      "Epoch: 1\tErrors: 3365\tPerformance: 94.39166666666667%\n",
      "Epoch: 2\tErrors: 2705\tPerformance: 95.49166666666666%\n",
      "Epoch: 3\tErrors: 2353\tPerformance: 96.07833333333333%\n",
      "Epoch: 4\tErrors: 2034\tPerformance: 96.61%\n",
      "Epoch: 5\tErrors: 1805\tPerformance: 96.99166666666666%\n",
      "Epoch: 6\tErrors: 1637\tPerformance: 97.27166666666666%\n",
      "Epoch: 7\tErrors: 1482\tPerformance: 97.53%\n",
      "Epoch: 8\tErrors: 1378\tPerformance: 97.70333333333333%\n",
      "Epoch: 9\tErrors: 1280\tPerformance: 97.86666666666667%\n",
      "Epoch: 10\tErrors: 1185\tPerformance: 98.02499999999999%\n",
      "Epoch: 11\tErrors: 1088\tPerformance: 98.18666666666667%\n",
      "Epoch: 12\tErrors: 999\tPerformance: 98.335%\n",
      "Epoch: 13\tErrors: 937\tPerformance: 98.43833333333333%\n",
      "Epoch: 14\tErrors: 884\tPerformance: 98.52666666666666%\n",
      "Epoch: 15\tErrors: 836\tPerformance: 98.60666666666667%\n",
      "Epoch: 16\tErrors: 792\tPerformance: 98.68%\n",
      "Epoch: 17\tErrors: 758\tPerformance: 98.73666666666666%\n",
      "Epoch: 18\tErrors: 712\tPerformance: 98.81333333333333%\n",
      "Epoch: 19\tErrors: 674\tPerformance: 98.87666666666667%\n",
      "Epoch: 20\tErrors: 647\tPerformance: 98.92166666666667%\n",
      "Epoch: 21\tErrors: 610\tPerformance: 98.98333333333333%\n",
      "Epoch: 22\tErrors: 575\tPerformance: 99.04166666666667%\n",
      "Epoch: 23\tErrors: 546\tPerformance: 99.09%\n",
      "Epoch: 24\tErrors: 526\tPerformance: 99.12333333333333%\n",
      "Epoch: 25\tErrors: 511\tPerformance: 99.14833333333334%\n",
      "Epoch: 26\tErrors: 488\tPerformance: 99.18666666666667%\n",
      "Epoch: 27\tErrors: 459\tPerformance: 99.235%\n",
      "Epoch: 28\tErrors: 443\tPerformance: 99.26166666666667%\n",
      "Epoch: 29\tErrors: 423\tPerformance: 99.295%\n",
      "Epoch: 30\tErrors: 408\tPerformance: 99.32%\n",
      "Epoch: 31\tErrors: 393\tPerformance: 99.345%\n",
      "Epoch: 32\tErrors: 386\tPerformance: 99.35666666666667%\n",
      "Epoch: 33\tErrors: 374\tPerformance: 99.37666666666667%\n",
      "Epoch: 34\tErrors: 363\tPerformance: 99.395%\n",
      "Epoch: 35\tErrors: 341\tPerformance: 99.43166666666666%\n",
      "Epoch: 36\tErrors: 328\tPerformance: 99.45333333333333%\n",
      "Epoch: 37\tErrors: 309\tPerformance: 99.485%\n",
      "Epoch: 38\tErrors: 295\tPerformance: 99.50833333333333%\n",
      "Epoch: 39\tErrors: 284\tPerformance: 99.52666666666666%\n",
      "Epoch: 40\tErrors: 274\tPerformance: 99.54333333333332%\n",
      "Epoch: 41\tErrors: 261\tPerformance: 99.565%\n",
      "Epoch: 42\tErrors: 253\tPerformance: 99.57833333333333%\n",
      "Epoch: 43\tErrors: 244\tPerformance: 99.59333333333333%\n",
      "Epoch: 44\tErrors: 237\tPerformance: 99.605%\n",
      "Epoch: 45\tErrors: 230\tPerformance: 99.61666666666666%\n",
      "Epoch: 46\tErrors: 222\tPerformance: 99.63%\n",
      "Epoch: 47\tErrors: 211\tPerformance: 99.64833333333334%\n",
      "Epoch: 48\tErrors: 205\tPerformance: 99.65833333333333%\n",
      "Epoch: 49\tErrors: 197\tPerformance: 99.67166666666667%\n",
      "Epoch: 50\tErrors: 191\tPerformance: 99.68166666666667%\n",
      "Epoch: 51\tErrors: 187\tPerformance: 99.68833333333333%\n",
      "Epoch: 52\tErrors: 181\tPerformance: 99.69833333333334%\n",
      "Epoch: 53\tErrors: 176\tPerformance: 99.70666666666666%\n",
      "Epoch: 54\tErrors: 170\tPerformance: 99.71666666666667%\n",
      "Epoch: 55\tErrors: 163\tPerformance: 99.72833333333332%\n",
      "Epoch: 56\tErrors: 157\tPerformance: 99.73833333333333%\n",
      "Epoch: 57\tErrors: 152\tPerformance: 99.74666666666666%\n",
      "Epoch: 58\tErrors: 142\tPerformance: 99.76333333333334%\n",
      "Epoch: 59\tErrors: 139\tPerformance: 99.76833333333333%\n",
      "Epoch: 60\tErrors: 136\tPerformance: 99.77333333333334%\n",
      "Epoch: 61\tErrors: 133\tPerformance: 99.77833333333334%\n",
      "Epoch: 62\tErrors: 131\tPerformance: 99.78166666666667%\n",
      "Epoch: 63\tErrors: 126\tPerformance: 99.79%\n",
      "Epoch: 64\tErrors: 125\tPerformance: 99.79166666666667%\n",
      "Epoch: 65\tErrors: 121\tPerformance: 99.79833333333333%\n",
      "Epoch: 66\tErrors: 115\tPerformance: 99.80833333333334%\n",
      "Epoch: 67\tErrors: 112\tPerformance: 99.81333333333333%\n",
      "Epoch: 68\tErrors: 108\tPerformance: 99.82%\n",
      "Epoch: 69\tErrors: 106\tPerformance: 99.82333333333332%\n",
      "Epoch: 70\tErrors: 101\tPerformance: 99.83166666666666%\n",
      "Epoch: 71\tErrors: 98\tPerformance: 99.83666666666666%\n",
      "Epoch: 72\tErrors: 94\tPerformance: 99.84333333333333%\n",
      "Epoch: 73\tErrors: 92\tPerformance: 99.84666666666666%\n",
      "Epoch: 74\tErrors: 87\tPerformance: 99.855%\n",
      "Epoch: 75\tErrors: 83\tPerformance: 99.86166666666666%\n",
      "Epoch: 76\tErrors: 80\tPerformance: 99.86666666666667%\n",
      "Epoch: 77\tErrors: 75\tPerformance: 99.875%\n",
      "Epoch: 78\tErrors: 71\tPerformance: 99.88166666666667%\n",
      "Epoch: 79\tErrors: 67\tPerformance: 99.88833333333334%\n",
      "Epoch: 80\tErrors: 66\tPerformance: 99.89%\n",
      "Epoch: 81\tErrors: 62\tPerformance: 99.89666666666666%\n",
      "Epoch: 82\tErrors: 60\tPerformance: 99.9%\n",
      "Epoch: 83\tErrors: 60\tPerformance: 99.9%\n",
      "Stop to converge in 83 epochs\n"
     ]
    }
   ],
   "source": [
    "nbEpoch = 200\n",
    "listError = []\n",
    "previousError = 0\n",
    "\n",
    "for epoch in range(nbEpoch):\n",
    "    error = 0\n",
    "    for i in range(len(array_targetData)):\n",
    "        formatedTarget = np.zeros(10) + 0.01\n",
    "        formatedTarget[array_targetData[i]] = 0.99\n",
    "    \n",
    "        nn.train(array_inputs[i], formatedTarget)\n",
    "        predictedResult = np.argmax(nn.predict(array_inputs[i]))\n",
    "        if (predictedResult != array_targetData[i]):\n",
    "            error += 1        \n",
    "    listError.append(error)\n",
    "    print('Epoch: ' + str(epoch) + '\\tErrors: ' + str(error) + \"\\tPerformance: \" + str((1 - error / len(array_targetData)) * 100) + '%')\n",
    "    if error == previousError:\n",
    "        print('Stop to converge in ' + str(epoch) + ' epochs')\n",
    "        break\n",
    "    previousError = error\n",
    "        "
   ]
  },
  {
   "cell_type": "code",
   "execution_count": 24,
   "metadata": {
    "ExecuteTime": {
     "end_time": "2018-03-18T20:34:29.014244Z",
     "start_time": "2018-03-18T20:34:28.917553Z"
    }
   },
   "outputs": [
    {
     "data": {
      "image/png": "[encoded data removed]",
      "text/plain": [
       "<Figure size 432x288 with 1 Axes>"
      ]
     },
     "metadata": {},
     "output_type": "display_data"
    }
   ],
   "source": [
    "plt.plot(listError)\n",
    "plt.show()"
   ]
  },
  {
   "cell_type": "markdown",
   "metadata": {
    "ExecuteTime": {
     "end_time": "2018-03-18T19:48:28.268809Z",
     "start_time": "2018-03-18T19:48:28.264765Z"
    }
   },
   "source": [
    "# Check the results on the test base "
   ]
  },
  {
   "cell_type": "code",
   "execution_count": 25,
   "metadata": {
    "ExecuteTime": {
     "end_time": "2018-03-18T20:34:30.176486Z",
     "start_time": "2018-03-18T20:34:29.500013Z"
    }
   },
   "outputs": [],
   "source": [
    "df_test = pd.read_csv(\"./MNIST_dataset/mnist_test.csv\", sep=',', header=None)"
   ]
  },
  {
   "cell_type": "code",
   "execution_count": 26,
   "metadata": {
    "ExecuteTime": {
     "end_time": "2018-03-18T20:34:30.661831Z",
     "start_time": "2018-03-18T20:34:30.624913Z"
    }
   },
   "outputs": [],
   "source": [
    "array_targetData_test = df_test.loc[:, 0].values\n",
    "array_inputs_test = df_test.loc[:, 1:].values / 255.0 * 0.99 + 0.01"
   ]
  },
  {
   "cell_type": "code",
   "execution_count": 27,
   "metadata": {
    "ExecuteTime": {
     "end_time": "2018-03-18T20:34:33.822891Z",
     "start_time": "2018-03-18T20:34:31.090988Z"
    }
   },
   "outputs": [
    {
     "name": "stdout",
     "output_type": "stream",
     "text": [
      "Performance: 98.96000000000001%\n"
     ]
    }
   ],
   "source": [
    "error = 0\n",
    "for i in range(len(array_targetData_test)):\n",
    "    formatedTarget = np.zeros(10) + 0.01\n",
    "    formatedTarget[array_targetData_test[i]] = 0.99\n",
    "    \n",
    "    nn.train(array_inputs_test[i], formatedTarget)\n",
    "    predictedResult = np.argmax(nn.predict(array_inputs_test[i]))\n",
    "    if (predictedResult != array_targetData_test[i]):\n",
    "        error += 1\n",
    "print(\"Performance: \" + str((1 - error / len(array_targetData_test)) * 100) + '%')"
   ]
  },
  {
   "cell_type": "code",
   "execution_count": null,
   "metadata": {},
   "outputs": [],
   "source": []
  },
  {
   "cell_type": "code",
   "execution_count": null,
   "metadata": {},
   "outputs": [],
   "source": []
  }
 ],
 "metadata": {
  "kernelspec": {
   "display_name": "Python 3",
   "language": "python",
   "name": "python3"
  },
  "language_info": {
   "codemirror_mode": {
    "name": "ipython",
    "version": 3
   },
   "file_extension": ".py",
   "mimetype": "text/x-python",
   "name": "python",
   "nbconvert_exporter": "python",
   "pygments_lexer": "ipython3",
   "version": "3.5.2"
  },
  "toc": {
   "nav_menu": {},
   "number_sections": true,
   "sideBar": true,
   "skip_h1_title": false,
   "title_cell": "Table of Contents",
   "title_sidebar": "Contents",
   "toc_cell": false,
   "toc_position": {},
   "toc_section_display": true,
   "toc_window_display": false
  },
  "varInspector": {
   "cols": {
    "lenName": 16,
    "lenType": 16,
    "lenVar": 40
   },
   "kernels_config": {
    "python": {
     "delete_cmd_postfix": "",
     "delete_cmd_prefix": "del ",
     "library": "var_list.py",
     "varRefreshCmd": "print(var_dic_list())"
    },
    "r": {
     "delete_cmd_postfix": ") ",
     "delete_cmd_prefix": "rm(",
     "library": "var_list.r",
     "varRefreshCmd": "cat(var_dic_list()) "
    }
   },
   "types_to_exclude": [
    "module",
    "function",
    "builtin_function_or_method",
    "instance",
    "_Feature"
   ],
   "window_display": false
  }
 },
 "nbformat": 4,
 "nbformat_minor": 2
}
