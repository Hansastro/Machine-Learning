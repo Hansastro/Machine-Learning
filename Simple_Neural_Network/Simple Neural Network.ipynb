{
 "cells": [
  {
   "cell_type": "code",
   "execution_count": 2,
   "metadata": {
    "ExecuteTime": {
     "end_time": "2018-03-19T20:05:16.170692Z",
     "start_time": "2018-03-19T20:05:13.763904Z"
    }
   },
   "outputs": [],
   "source": [
    "import snn\n",
    "from snn import neuralNetwork\n",
    "import pandas as pd\n",
    "import numpy as np\n",
    "import matplotlib.pyplot as plt"
   ]
  },
  {
   "cell_type": "code",
   "execution_count": 3,
   "metadata": {
    "ExecuteTime": {
     "end_time": "2018-03-19T20:05:16.178217Z",
     "start_time": "2018-03-19T20:05:16.172330Z"
    }
   },
   "outputs": [
    {
     "data": {
      "text/plain": [
       "<module 'snn' from '/home/jean-phi/Projects/Machine-Learning/Simple_Neural_Network/snn.py'>"
      ]
     },
     "execution_count": 3,
     "metadata": {},
     "output_type": "execute_result"
    }
   ],
   "source": [
    "import importlib\n",
    "importlib.reload(snn)"
   ]
  },
  {
   "cell_type": "markdown",
   "metadata": {},
   "source": [
    "# Read the data from the file"
   ]
  },
  {
   "cell_type": "code",
   "execution_count": 4,
   "metadata": {
    "ExecuteTime": {
     "end_time": "2018-03-19T20:05:20.707994Z",
     "start_time": "2018-03-19T20:05:16.180137Z"
    }
   },
   "outputs": [],
   "source": [
    "df = pd.read_csv(\"./MNIST_dataset/mnist_train.csv\", sep=',', header=None)"
   ]
  },
  {
   "cell_type": "markdown",
   "metadata": {},
   "source": [
    "# Create the neural network"
   ]
  },
  {
   "cell_type": "code",
   "execution_count": 5,
   "metadata": {
    "ExecuteTime": {
     "end_time": "2018-03-19T20:05:20.715911Z",
     "start_time": "2018-03-19T20:05:20.709584Z"
    }
   },
   "outputs": [],
   "source": [
    "nn = neuralNetwork(784, 100, 10)"
   ]
  },
  {
   "cell_type": "markdown",
   "metadata": {},
   "source": [
    "# Prepare the data"
   ]
  },
  {
   "cell_type": "markdown",
   "metadata": {},
   "source": [
    "## Extract the target output"
   ]
  },
  {
   "cell_type": "code",
   "execution_count": 6,
   "metadata": {
    "ExecuteTime": {
     "end_time": "2018-03-19T20:05:20.756007Z",
     "start_time": "2018-03-19T20:05:20.717529Z"
    }
   },
   "outputs": [],
   "source": [
    "array_targetData = df.loc[:, 0].values"
   ]
  },
  {
   "cell_type": "markdown",
   "metadata": {},
   "source": [
    "## Normalize the input"
   ]
  },
  {
   "cell_type": "code",
   "execution_count": 7,
   "metadata": {
    "ExecuteTime": {
     "end_time": "2018-03-19T20:05:21.102164Z",
     "start_time": "2018-03-19T20:05:20.757530Z"
    }
   },
   "outputs": [],
   "source": [
    "array_inputs = df.loc[:, 1:].values / 255.0 * 0.99 + 0.01"
   ]
  },
  {
   "cell_type": "markdown",
   "metadata": {},
   "source": [
    "# Train the neural network"
   ]
  },
  {
   "cell_type": "markdown",
   "metadata": {
    "ExecuteTime": {
     "end_time": "2018-03-18T20:11:57.105730Z",
     "start_time": "2018-03-18T20:11:57.096953Z"
    },
    "code_folding": []
   },
   "source": [
    "index=10\n",
    "formatedTarget = np.zeros(10) + 0.01\n",
    "formatedTarget[array_targetData[index]] = 0.99\n",
    "for _ in range(10):\n",
    "    nn.train(array_inputs[index], formatedTarget)\n",
    "print('Target: ' + str(array_targetData[index]) + '\\tPredicted result: ' + str(np.argmax(nn.predict(array_inputs[index]))))"
   ]
  },
  {
   "cell_type": "code",
   "execution_count": 8,
   "metadata": {
    "ExecuteTime": {
     "end_time": "2018-03-19T21:09:30.841048Z",
     "start_time": "2018-03-19T20:05:21.103931Z"
    },
    "code_folding": []
   },
   "outputs": [
    {
     "name": "stdout",
     "output_type": "stream",
     "text": [
      "Epoch: 0\tErrors: 4870\tPerformance: 91.88333333333334%\n",
      "Epoch: 1\tErrors: 3248\tPerformance: 94.58666666666666%\n",
      "Epoch: 2\tErrors: 2724\tPerformance: 95.46%\n",
      "Epoch: 3\tErrors: 2361\tPerformance: 96.065%\n",
      "Epoch: 4\tErrors: 2109\tPerformance: 96.485%\n",
      "Epoch: 5\tErrors: 1890\tPerformance: 96.85000000000001%\n",
      "Epoch: 6\tErrors: 1733\tPerformance: 97.11166666666666%\n",
      "Epoch: 7\tErrors: 1580\tPerformance: 97.36666666666667%\n",
      "Epoch: 8\tErrors: 1461\tPerformance: 97.565%\n",
      "Epoch: 9\tErrors: 1347\tPerformance: 97.75500000000001%\n",
      "Epoch: 10\tErrors: 1255\tPerformance: 97.90833333333333%\n",
      "Epoch: 11\tErrors: 1174\tPerformance: 98.04333333333334%\n",
      "Epoch: 12\tErrors: 1108\tPerformance: 98.15333333333334%\n",
      "Epoch: 13\tErrors: 1044\tPerformance: 98.26%\n",
      "Epoch: 14\tErrors: 1001\tPerformance: 98.33166666666666%\n",
      "Epoch: 15\tErrors: 957\tPerformance: 98.405%\n",
      "Epoch: 16\tErrors: 913\tPerformance: 98.47833333333334%\n",
      "Epoch: 17\tErrors: 865\tPerformance: 98.55833333333334%\n",
      "Epoch: 18\tErrors: 817\tPerformance: 98.63833333333334%\n",
      "Epoch: 19\tErrors: 771\tPerformance: 98.715%\n",
      "Epoch: 20\tErrors: 736\tPerformance: 98.77333333333334%\n",
      "Epoch: 21\tErrors: 699\tPerformance: 98.835%\n",
      "Epoch: 22\tErrors: 676\tPerformance: 98.87333333333333%\n",
      "Epoch: 23\tErrors: 651\tPerformance: 98.91499999999999%\n",
      "Epoch: 24\tErrors: 624\tPerformance: 98.96000000000001%\n",
      "Epoch: 25\tErrors: 602\tPerformance: 98.99666666666667%\n",
      "Epoch: 26\tErrors: 574\tPerformance: 99.04333333333334%\n",
      "Epoch: 27\tErrors: 550\tPerformance: 99.08333333333333%\n",
      "Epoch: 28\tErrors: 531\tPerformance: 99.115%\n",
      "Epoch: 29\tErrors: 511\tPerformance: 99.14833333333334%\n",
      "Epoch: 30\tErrors: 493\tPerformance: 99.17833333333334%\n",
      "Epoch: 31\tErrors: 471\tPerformance: 99.215%\n",
      "Epoch: 32\tErrors: 452\tPerformance: 99.24666666666667%\n",
      "Epoch: 33\tErrors: 426\tPerformance: 99.29%\n",
      "Epoch: 34\tErrors: 412\tPerformance: 99.31333333333333%\n",
      "Epoch: 35\tErrors: 403\tPerformance: 99.32833333333333%\n",
      "Epoch: 36\tErrors: 387\tPerformance: 99.355%\n",
      "Epoch: 37\tErrors: 374\tPerformance: 99.37666666666667%\n",
      "Epoch: 38\tErrors: 359\tPerformance: 99.40166666666667%\n",
      "Epoch: 39\tErrors: 348\tPerformance: 99.42%\n",
      "Epoch: 40\tErrors: 337\tPerformance: 99.43833333333333%\n",
      "Epoch: 41\tErrors: 325\tPerformance: 99.45833333333334%\n",
      "Epoch: 42\tErrors: 310\tPerformance: 99.48333333333333%\n",
      "Epoch: 43\tErrors: 296\tPerformance: 99.50666666666666%\n",
      "Epoch: 44\tErrors: 287\tPerformance: 99.52166666666666%\n",
      "Epoch: 45\tErrors: 273\tPerformance: 99.54499999999999%\n",
      "Epoch: 46\tErrors: 268\tPerformance: 99.55333333333334%\n",
      "Epoch: 47\tErrors: 258\tPerformance: 99.57000000000001%\n",
      "Epoch: 48\tErrors: 252\tPerformance: 99.58%\n",
      "Epoch: 49\tErrors: 240\tPerformance: 99.6%\n",
      "Epoch: 50\tErrors: 232\tPerformance: 99.61333333333333%\n",
      "Epoch: 51\tErrors: 223\tPerformance: 99.62833333333333%\n",
      "Epoch: 52\tErrors: 211\tPerformance: 99.64833333333334%\n",
      "Epoch: 53\tErrors: 200\tPerformance: 99.66666666666667%\n",
      "Epoch: 54\tErrors: 194\tPerformance: 99.67666666666666%\n",
      "Epoch: 55\tErrors: 186\tPerformance: 99.69%\n",
      "Epoch: 56\tErrors: 180\tPerformance: 99.7%\n",
      "Epoch: 57\tErrors: 172\tPerformance: 99.71333333333334%\n",
      "Epoch: 58\tErrors: 169\tPerformance: 99.71833333333333%\n",
      "Epoch: 59\tErrors: 165\tPerformance: 99.725%\n",
      "Epoch: 60\tErrors: 162\tPerformance: 99.72999999999999%\n",
      "Epoch: 61\tErrors: 156\tPerformance: 99.74%\n",
      "Epoch: 62\tErrors: 153\tPerformance: 99.74499999999999%\n",
      "Epoch: 63\tErrors: 150\tPerformance: 99.75%\n",
      "Epoch: 64\tErrors: 141\tPerformance: 99.765%\n",
      "Epoch: 65\tErrors: 137\tPerformance: 99.77166666666668%\n",
      "Epoch: 66\tErrors: 134\tPerformance: 99.77666666666667%\n",
      "Epoch: 67\tErrors: 133\tPerformance: 99.77833333333334%\n",
      "Epoch: 68\tErrors: 132\tPerformance: 99.78%\n",
      "Epoch: 69\tErrors: 127\tPerformance: 99.78833333333334%\n",
      "Epoch: 70\tErrors: 124\tPerformance: 99.79333333333334%\n",
      "Epoch: 71\tErrors: 119\tPerformance: 99.80166666666666%\n",
      "Epoch: 72\tErrors: 115\tPerformance: 99.80833333333334%\n",
      "Epoch: 73\tErrors: 111\tPerformance: 99.815%\n",
      "Epoch: 74\tErrors: 106\tPerformance: 99.82333333333332%\n",
      "Epoch: 75\tErrors: 103\tPerformance: 99.82833333333333%\n",
      "Epoch: 76\tErrors: 100\tPerformance: 99.83333333333333%\n",
      "Epoch: 77\tErrors: 97\tPerformance: 99.83833333333332%\n",
      "Epoch: 78\tErrors: 94\tPerformance: 99.84333333333333%\n",
      "Epoch: 79\tErrors: 91\tPerformance: 99.84833333333333%\n",
      "Epoch: 80\tErrors: 90\tPerformance: 99.85000000000001%\n",
      "Epoch: 81\tErrors: 85\tPerformance: 99.85833333333333%\n",
      "Epoch: 82\tErrors: 82\tPerformance: 99.86333333333334%\n",
      "Epoch: 83\tErrors: 80\tPerformance: 99.86666666666667%\n",
      "Epoch: 84\tErrors: 80\tPerformance: 99.86666666666667%\n",
      "Stop to converge in 84 epochs\n",
      "Epoch: 85\tErrors: 75\tPerformance: 99.875%\n",
      "Epoch: 86\tErrors: 74\tPerformance: 99.87666666666667%\n",
      "Epoch: 87\tErrors: 74\tPerformance: 99.87666666666667%\n",
      "Stop to converge in 87 epochs\n",
      "Epoch: 88\tErrors: 73\tPerformance: 99.87833333333333%\n",
      "Epoch: 89\tErrors: 71\tPerformance: 99.88166666666667%\n",
      "Epoch: 90\tErrors: 67\tPerformance: 99.88833333333334%\n",
      "Epoch: 91\tErrors: 64\tPerformance: 99.89333333333333%\n",
      "Epoch: 92\tErrors: 65\tPerformance: 99.89166666666667%\n",
      "Epoch: 93\tErrors: 64\tPerformance: 99.89333333333333%\n",
      "Epoch: 94\tErrors: 62\tPerformance: 99.89666666666666%\n",
      "Epoch: 95\tErrors: 63\tPerformance: 99.895%\n",
      "Epoch: 96\tErrors: 62\tPerformance: 99.89666666666666%\n",
      "Epoch: 97\tErrors: 58\tPerformance: 99.90333333333334%\n",
      "Epoch: 98\tErrors: 58\tPerformance: 99.90333333333334%\n",
      "Stop to converge in 98 epochs\n",
      "Epoch: 99\tErrors: 55\tPerformance: 99.90833333333333%\n",
      "Epoch: 100\tErrors: 54\tPerformance: 99.91%\n",
      "Epoch: 101\tErrors: 53\tPerformance: 99.91166666666666%\n",
      "Epoch: 102\tErrors: 53\tPerformance: 99.91166666666666%\n",
      "Stop to converge in 102 epochs\n",
      "Epoch: 103\tErrors: 52\tPerformance: 99.91333333333333%\n",
      "Epoch: 104\tErrors: 48\tPerformance: 99.92%\n",
      "Epoch: 105\tErrors: 48\tPerformance: 99.92%\n",
      "Stop to converge in 105 epochs\n",
      "Epoch: 106\tErrors: 48\tPerformance: 99.92%\n",
      "Stop to converge in 106 epochs\n",
      "Epoch: 107\tErrors: 48\tPerformance: 99.92%\n",
      "Stop to converge in 107 epochs\n",
      "Epoch: 108\tErrors: 47\tPerformance: 99.92166666666667%\n",
      "Epoch: 109\tErrors: 46\tPerformance: 99.92333333333333%\n",
      "Epoch: 110\tErrors: 45\tPerformance: 99.925%\n",
      "Epoch: 111\tErrors: 45\tPerformance: 99.925%\n",
      "Stop to converge in 111 epochs\n",
      "Epoch: 112\tErrors: 45\tPerformance: 99.925%\n",
      "Stop to converge in 112 epochs\n",
      "Epoch: 113\tErrors: 46\tPerformance: 99.92333333333333%\n",
      "Epoch: 114\tErrors: 46\tPerformance: 99.92333333333333%\n",
      "Stop to converge in 114 epochs\n",
      "Epoch: 115\tErrors: 46\tPerformance: 99.92333333333333%\n",
      "Stop to converge in 115 epochs\n",
      "Epoch: 116\tErrors: 44\tPerformance: 99.92666666666666%\n",
      "Epoch: 117\tErrors: 44\tPerformance: 99.92666666666666%\n",
      "Stop to converge in 117 epochs\n",
      "Epoch: 118\tErrors: 43\tPerformance: 99.92833333333333%\n",
      "Epoch: 119\tErrors: 41\tPerformance: 99.93166666666666%\n",
      "Epoch: 120\tErrors: 39\tPerformance: 99.935%\n",
      "Epoch: 121\tErrors: 38\tPerformance: 99.93666666666667%\n",
      "Epoch: 122\tErrors: 37\tPerformance: 99.93833333333333%\n",
      "Epoch: 123\tErrors: 36\tPerformance: 99.94%\n",
      "Epoch: 124\tErrors: 36\tPerformance: 99.94%\n",
      "Stop to converge in 124 epochs\n",
      "Epoch: 125\tErrors: 36\tPerformance: 99.94%\n",
      "Stop to converge in 125 epochs\n",
      "Epoch: 126\tErrors: 36\tPerformance: 99.94%\n",
      "Stop to converge in 126 epochs\n",
      "Epoch: 127\tErrors: 35\tPerformance: 99.94166666666666%\n",
      "Epoch: 128\tErrors: 37\tPerformance: 99.93833333333333%\n",
      "Epoch: 129\tErrors: 35\tPerformance: 99.94166666666666%\n",
      "Epoch: 130\tErrors: 30\tPerformance: 99.95%\n",
      "Epoch: 131\tErrors: 31\tPerformance: 99.94833333333332%\n",
      "Epoch: 132\tErrors: 31\tPerformance: 99.94833333333332%\n",
      "Stop to converge in 132 epochs\n",
      "Epoch: 133\tErrors: 29\tPerformance: 99.95166666666667%\n",
      "Epoch: 134\tErrors: 30\tPerformance: 99.95%\n",
      "Epoch: 135\tErrors: 29\tPerformance: 99.95166666666667%\n",
      "Epoch: 136\tErrors: 27\tPerformance: 99.955%\n",
      "Epoch: 137\tErrors: 26\tPerformance: 99.95666666666668%\n",
      "Epoch: 138\tErrors: 24\tPerformance: 99.96000000000001%\n",
      "Epoch: 139\tErrors: 22\tPerformance: 99.96333333333334%\n",
      "Epoch: 140\tErrors: 20\tPerformance: 99.96666666666667%\n",
      "Epoch: 141\tErrors: 22\tPerformance: 99.96333333333334%\n",
      "Epoch: 142\tErrors: 22\tPerformance: 99.96333333333334%\n",
      "Stop to converge in 142 epochs\n",
      "Epoch: 143\tErrors: 22\tPerformance: 99.96333333333334%\n",
      "Stop to converge in 143 epochs\n",
      "Epoch: 144\tErrors: 22\tPerformance: 99.96333333333334%\n",
      "Stop to converge in 144 epochs\n",
      "Epoch: 145\tErrors: 22\tPerformance: 99.96333333333334%\n",
      "Stop to converge in 145 epochs\n",
      "Epoch: 146\tErrors: 20\tPerformance: 99.96666666666667%\n",
      "Epoch: 147\tErrors: 20\tPerformance: 99.96666666666667%\n",
      "Stop to converge in 147 epochs\n",
      "Epoch: 148\tErrors: 19\tPerformance: 99.96833333333333%\n"
     ]
    },
    {
     "name": "stdout",
     "output_type": "stream",
     "text": [
      "Epoch: 149\tErrors: 17\tPerformance: 99.97166666666666%\n",
      "Epoch: 150\tErrors: 17\tPerformance: 99.97166666666666%\n",
      "Stop to converge in 150 epochs\n",
      "Epoch: 151\tErrors: 17\tPerformance: 99.97166666666666%\n",
      "Stop to converge in 151 epochs\n",
      "Epoch: 152\tErrors: 17\tPerformance: 99.97166666666666%\n",
      "Stop to converge in 152 epochs\n",
      "Epoch: 153\tErrors: 17\tPerformance: 99.97166666666666%\n",
      "Stop to converge in 153 epochs\n",
      "Epoch: 154\tErrors: 17\tPerformance: 99.97166666666666%\n",
      "Stop to converge in 154 epochs\n",
      "Epoch: 155\tErrors: 17\tPerformance: 99.97166666666666%\n",
      "Stop to converge in 155 epochs\n"
     ]
    }
   ],
   "source": [
    "nbEpoch = 1000\n",
    "listError = []\n",
    "previousError = 0\n",
    "stopConvergenceCount = 0\n",
    " \n",
    "\n",
    "for epoch in range(nbEpoch):\n",
    "    error = 0\n",
    "    for i in range(len(array_targetData)):\n",
    "        formatedTarget = np.zeros(10) + 0.01\n",
    "        formatedTarget[array_targetData[i]] = 0.99\n",
    "\n",
    "        nn.train(array_inputs[i], formatedTarget, learningRate = 0.01)\n",
    "        predictedResult = np.argmax(nn.predict(array_inputs[i]))\n",
    "        if (predictedResult != array_targetData[i]):\n",
    "            error += 1       \n",
    "\n",
    "    listError.append(error)\n",
    "    print('Epoch: ' + str(epoch) + '\\tErrors: ' + str(error) + \"\\tPerformance: \" + str((1 - error / len(array_targetData)) * 100) + '%')\n",
    "    if error == previousError:\n",
    "        print('Stop to converge in ' + str(epoch) + ' epochs')\n",
    "        stopConvergenceCount += 1\n",
    "        if stopConvergenceCount > 5:\n",
    "            break\n",
    "    else:\n",
    "        stopConvergenceCount = 0\n",
    "    previousError = error\n",
    "        "
   ]
  },
  {
   "cell_type": "code",
   "execution_count": 9,
   "metadata": {
    "ExecuteTime": {
     "end_time": "2018-03-19T21:09:31.129992Z",
     "start_time": "2018-03-19T21:09:30.842772Z"
    }
   },
   "outputs": [
    {
     "data": {
      "image/png": "[encoded data removed]",
      "text/plain": [
       "<Figure size 432x288 with 1 Axes>"
      ]
     },
     "metadata": {},
     "output_type": "display_data"
    }
   ],
   "source": [
    "plt.plot(listError)\n",
    "plt.show()"
   ]
  },
  {
   "cell_type": "markdown",
   "metadata": {
    "ExecuteTime": {
     "end_time": "2018-03-18T19:48:28.268809Z",
     "start_time": "2018-03-18T19:48:28.264765Z"
    }
   },
   "source": [
    "# Check the results on the test base "
   ]
  },
  {
   "cell_type": "code",
   "execution_count": 10,
   "metadata": {
    "ExecuteTime": {
     "end_time": "2018-03-19T21:09:31.884810Z",
     "start_time": "2018-03-19T21:09:31.131550Z"
    }
   },
   "outputs": [],
   "source": [
    "df_test = pd.read_csv(\"./MNIST_dataset/mnist_test.csv\", sep=',', header=None)"
   ]
  },
  {
   "cell_type": "code",
   "execution_count": 11,
   "metadata": {
    "ExecuteTime": {
     "end_time": "2018-03-19T21:09:31.941440Z",
     "start_time": "2018-03-19T21:09:31.886676Z"
    }
   },
   "outputs": [],
   "source": [
    "array_targetData_test = df_test.loc[:, 0].values\n",
    "array_inputs_test = df_test.loc[:, 1:].values / 255.0 * 0.99 + 0.01"
   ]
  },
  {
   "cell_type": "code",
   "execution_count": 12,
   "metadata": {
    "ExecuteTime": {
     "end_time": "2018-03-19T21:09:32.433602Z",
     "start_time": "2018-03-19T21:09:31.943580Z"
    }
   },
   "outputs": [
    {
     "name": "stdout",
     "output_type": "stream",
     "text": [
      "Performance: 97.19%\n"
     ]
    }
   ],
   "source": [
    "error = 0\n",
    "for i in range(len(array_targetData_test)):\n",
    "    formatedTarget = np.zeros(10) + 0.01\n",
    "    formatedTarget[array_targetData_test[i]] = 0.99\n",
    "    \n",
    "    #nn.train(array_inputs_test[i], formatedTarget)\n",
    "    predictedResult = np.argmax(nn.predict(array_inputs_test[i]))\n",
    "    if (predictedResult != array_targetData_test[i]):\n",
    "        error += 1\n",
    "print(\"Performance: \" + str((1 - error / len(array_targetData_test)) * 100) + '%')"
   ]
  },
  {
   "cell_type": "code",
   "execution_count": null,
   "metadata": {},
   "outputs": [],
   "source": []
  },
  {
   "cell_type": "code",
   "execution_count": null,
   "metadata": {},
   "outputs": [],
   "source": []
  }
 ],
 "metadata": {
  "kernelspec": {
   "display_name": "Python 3",
   "language": "python",
   "name": "python3"
  },
  "language_info": {
   "codemirror_mode": {
    "name": "ipython",
    "version": 3
   },
   "file_extension": ".py",
   "mimetype": "text/x-python",
   "name": "python",
   "nbconvert_exporter": "python",
   "pygments_lexer": "ipython3",
   "version": "3.5.2"
  },
  "toc": {
   "nav_menu": {},
   "number_sections": true,
   "sideBar": true,
   "skip_h1_title": false,
   "title_cell": "Table of Contents",
   "title_sidebar": "Contents",
   "toc_cell": false,
   "toc_position": {},
   "toc_section_display": true,
   "toc_window_display": false
  },
  "varInspector": {
   "cols": {
    "lenName": 16,
    "lenType": 16,
    "lenVar": 40
   },
   "kernels_config": {
    "python": {
     "delete_cmd_postfix": "",
     "delete_cmd_prefix": "del ",
     "library": "var_list.py",
     "varRefreshCmd": "print(var_dic_list())"
    },
    "r": {
     "delete_cmd_postfix": ") ",
     "delete_cmd_prefix": "rm(",
     "library": "var_list.r",
     "varRefreshCmd": "cat(var_dic_list()) "
    }
   },
   "types_to_exclude": [
    "module",
    "function",
    "builtin_function_or_method",
    "instance",
    "_Feature"
   ],
   "window_display": false
  }
 },
 "nbformat": 4,
 "nbformat_minor": 2
}
