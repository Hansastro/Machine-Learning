{
 "cells": [
  {
   "cell_type": "code",
   "execution_count": 185,
   "metadata": {
    "ExecuteTime": {
     "end_time": "2018-03-18T12:08:56.317423Z",
     "start_time": "2018-03-18T12:08:56.315121Z"
    }
   },
   "outputs": [],
   "source": [
    "from snn import neuralNetwork"
   ]
  },
  {
   "cell_type": "code",
   "execution_count": 186,
   "metadata": {
    "ExecuteTime": {
     "end_time": "2018-03-18T12:08:56.737384Z",
     "start_time": "2018-03-18T12:08:56.733448Z"
    }
   },
   "outputs": [
    {
     "data": {
      "text/plain": [
       "<module 'snn' from '/home/jean-phi/Projects/Machine-Learning/Simple_Neural_Network/snn.py'>"
      ]
     },
     "execution_count": 186,
     "metadata": {},
     "output_type": "execute_result"
    }
   ],
   "source": [
    "import importlib\n",
    "importlib.reload(snn)"
   ]
  },
  {
   "cell_type": "code",
   "execution_count": 187,
   "metadata": {
    "ExecuteTime": {
     "end_time": "2018-03-18T12:08:57.244971Z",
     "start_time": "2018-03-18T12:08:57.242443Z"
    }
   },
   "outputs": [],
   "source": [
    "nn = neuralNetwork(3, 3, 3)"
   ]
  },
  {
   "cell_type": "code",
   "execution_count": 188,
   "metadata": {
    "ExecuteTime": {
     "end_time": "2018-03-18T12:08:57.695628Z",
     "start_time": "2018-03-18T12:08:57.691568Z"
    }
   },
   "outputs": [
    {
     "data": {
      "text/plain": [
       "array([[0.55473185],\n",
       "       [0.41748783],\n",
       "       [0.45486386]])"
      ]
     },
     "execution_count": 188,
     "metadata": {},
     "output_type": "execute_result"
    }
   ],
   "source": [
    "inputs = [0.3, 2, 5.0]\n",
    "nn.predict(inputs)"
   ]
  },
  {
   "cell_type": "code",
   "execution_count": 189,
   "metadata": {
    "ExecuteTime": {
     "end_time": "2018-03-18T12:08:58.642036Z",
     "start_time": "2018-03-18T12:08:58.637889Z"
    }
   },
   "outputs": [],
   "source": [
    "nn.train([0.3, 2, 5.0], [1, 1, 1], 0.01)"
   ]
  },
  {
   "cell_type": "code",
   "execution_count": null,
   "metadata": {},
   "outputs": [],
   "source": []
  }
 ],
 "metadata": {
  "kernelspec": {
   "display_name": "Python 3",
   "language": "python",
   "name": "python3"
  },
  "language_info": {
   "codemirror_mode": {
    "name": "ipython",
    "version": 3
   },
   "file_extension": ".py",
   "mimetype": "text/x-python",
   "name": "python",
   "nbconvert_exporter": "python",
   "pygments_lexer": "ipython3",
   "version": "3.5.2"
  },
  "toc": {
   "nav_menu": {},
   "number_sections": true,
   "sideBar": true,
   "skip_h1_title": false,
   "title_cell": "Table of Contents",
   "title_sidebar": "Contents",
   "toc_cell": false,
   "toc_position": {},
   "toc_section_display": true,
   "toc_window_display": false
  },
  "varInspector": {
   "cols": {
    "lenName": 16,
    "lenType": 16,
    "lenVar": 40
   },
   "kernels_config": {
    "python": {
     "delete_cmd_postfix": "",
     "delete_cmd_prefix": "del ",
     "library": "var_list.py",
     "varRefreshCmd": "print(var_dic_list())"
    },
    "r": {
     "delete_cmd_postfix": ") ",
     "delete_cmd_prefix": "rm(",
     "library": "var_list.r",
     "varRefreshCmd": "cat(var_dic_list()) "
    }
   },
   "types_to_exclude": [
    "module",
    "function",
    "builtin_function_or_method",
    "instance",
    "_Feature"
   ],
   "window_display": false
  }
 },
 "nbformat": 4,
 "nbformat_minor": 2
}
